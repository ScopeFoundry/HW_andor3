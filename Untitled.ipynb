{
 "cells": [
  {
   "cell_type": "code",
   "execution_count": 15,
   "metadata": {},
   "outputs": [
    {
     "name": "stdout",
     "output_type": "stream",
     "text": [
      "{'AccumulateCount': 'AcquisitionStart', ' Integer': ' Command'}\n",
      "{'AccumulateCount': 'AcquisitionStop', ' Integer': ' Command'}\n",
      "{'AccumulateCount': 'AlternatingReadoutDirection', ' Integer': ' Boolean'}\n",
      "{'AccumulateCount': 'AOIBinning', ' Integer': 'Enumerated'}\n",
      "{'AccumulateCount': 'AOIHBin', ' Integer': ' Integer'}\n",
      "{'AccumulateCount': 'AOIHeight', ' Integer': ' Integer'}\n",
      "{'AccumulateCount': 'AOILayout', ' Integer': ' Enumerated'}\n",
      "{'AccumulateCount': 'AOILeft', ' Integer': ' Integer'}\n",
      "{'AccumulateCount': 'AOIStride', ' Integer': ' Integer'}\n",
      "{'AccumulateCount': 'AOITop', ' Integer': ' Integer'}\n",
      "{'AccumulateCount': 'AOIVBin', ' Integer': ' Integer'}\n",
      "{'AccumulateCount': 'AOIWidth', ' Integer': ' Integer'}\n",
      "{'AccumulateCount': 'AuxiliaryOutSource', ' Integer': ' Enumerated'}\n",
      "{'AccumulateCount': 'AuxOutSourceTwo', ' Integer': ' Enumerated'}\n",
      "{'AccumulateCount': 'Baseline', ' Integer': ' Integer'}\n",
      "{'AccumulateCount': 'BitDepth', ' Integer': ' Enumerated'}\n",
      "{'AccumulateCount': 'BufferOverflowEvent', ' Integer': ' Integer'}\n",
      "{'AccumulateCount': 'BytesPerPixel', ' Integer': ' FloatingPoint'}\n",
      "{'AccumulateCount': 'CameraAcquiring', ' Integer': ' Boolean'}\n",
      "{'AccumulateCount': 'CameraModel', ' Integer': ' String'}\n",
      "{'AccumulateCount': 'CameraName', ' Integer': ' String'}\n",
      "{'AccumulateCount': 'CameraPresent', ' Integer': ' Boolean'}\n",
      "{'AccumulateCount': 'ControllerID', ' Integer': ' String'}\n",
      "{'AccumulateCount': 'FrameCount', ' Integer': ' Integer'}\n",
      "{'AccumulateCount': 'CycleMode', ' Integer': ' Enumerated'}\n",
      "{'AccumulateCount': 'DeviceCount', ' Integer': ' Integer'}\n",
      "{'AccumulateCount': 'ElectronicShutteringMode', ' Integer': ' Enumerated'}\n",
      "{'AccumulateCount': 'EventEnable', ' Integer': ' Boolean'}\n",
      "{'AccumulateCount': 'EventsMissedEvent', ' Integer': ' Integer'}\n",
      "{'AccumulateCount': 'EventSelector', ' Integer': ' Enumerated'}\n",
      "{'AccumulateCount': 'ExposedPixelHeight', ' Integer': ' Integer'}\n",
      "{'AccumulateCount': 'ExposureTime', ' Integer': ' FloatingPoint'}\n",
      "{'AccumulateCount': 'ExposureEndEvent', ' Integer': ' Integer'}\n",
      "{'AccumulateCount': 'ExposureStartEvent', ' Integer': ' Integer'}\n",
      "{'AccumulateCount': 'ExternalTriggerDelay', ' Integer': ' FloatingPoint'}\n",
      "{'AccumulateCount': 'FanSpeed', ' Integer': ' Enumerated'}\n",
      "{'AccumulateCount': 'FastAOIFrameRateEnable', ' Integer': ' Boolean'}\n",
      "{'AccumulateCount': 'FirmwareVersion', ' Integer': ' String'}\n",
      "{'AccumulateCount': 'FrameRate', ' Integer': ' FloatingPoint'}\n",
      "{'AccumulateCount': 'FullAOIControl', ' Integer': ' Boolean'}\n",
      "{'AccumulateCount': 'ImageSizeBytes', ' Integer': ' Integer'}\n",
      "{'AccumulateCount': 'InterfaceType', ' Integer': ' String'}\n",
      "{'AccumulateCount': 'IOInvert', ' Integer': ' Boolean'}\n",
      "{'AccumulateCount': 'IOSelector', ' Integer': ' Enumerated'}\n",
      "{'AccumulateCount': 'LineScanSpeed', ' Integer': ' FloatingPoint'}\n",
      "{'AccumulateCount': 'LUTIndex', ' Integer': ' Integer'}\n",
      "{'AccumulateCount': 'LUTValue', ' Integer': ' Integer'}\n",
      "{'AccumulateCount': 'MaxInterfaceTransferRate', ' Integer': ' FloatingPoint'}\n",
      "{'AccumulateCount': 'MetadataEnable', ' Integer': ' Boolean'}\n",
      "{'AccumulateCount': 'MetadataTimestamp', ' Integer': ' Boolean'}\n",
      "{'AccumulateCount': 'MetadataFrame', ' Integer': ' Boolean'}\n",
      "{'AccumulateCount': 'MultitrackBinned', ' Integer': ' Boolean'}\n",
      "{'AccumulateCount': 'MultitrackCount', ' Integer': ' Integer'}\n",
      "{'AccumulateCount': 'MultitrackEnd', ' Integer': ' Integer'}\n",
      "{'AccumulateCount': 'MultitrackSelector', ' Integer': ' Integer'}\n",
      "{'AccumulateCount': 'MultitrackStart', ' Integer': ' Integer'}\n",
      "{'AccumulateCount': 'Overlap', ' Integer': ' Boolean'}\n",
      "{'AccumulateCount': 'PixelEncoding', ' Integer': ' Enumerated'}\n",
      "{'AccumulateCount': 'PixelHeight', ' Integer': ' FloatingPoint'}\n",
      "{'AccumulateCount': 'PixelReadoutRate', ' Integer': ' Enumerated'}\n",
      "{'AccumulateCount': 'PixelWidth', ' Integer': ' FloatingPoint'}\n",
      "{'AccumulateCount': 'PreAmpGainControl', ' Integer': ' Enumerated'}\n",
      "{'AccumulateCount': 'ReadoutTime', ' Integer': ' FloatingPoint'}\n",
      "{'AccumulateCount': 'RollingShutterGlobalClear', ' Integer': ' Boolean'}\n",
      "{'AccumulateCount': 'RowNExposureEndEvent', ' Integer': ' Integer'}\n",
      "{'AccumulateCount': 'RowNExposureStartEvent', ' Integer': ' Integer'}\n",
      "{'AccumulateCount': 'RowReadTime', ' Integer': ' FloatingPoint'}\n",
      "{'AccumulateCount': 'ScanSpeedControlEnable', ' Integer': ' Boolean'}\n",
      "{'AccumulateCount': 'SensorCooling', ' Integer': ' Boolean'}\n",
      "{'AccumulateCount': 'SensorHeight', ' Integer': ' Integer'}\n",
      "{'AccumulateCount': 'SensorReadoutMode', ' Integer': ' Enumerated'}\n",
      "{'AccumulateCount': 'SensorTemperature', ' Integer': ' FloatingPoint'}\n",
      "{'AccumulateCount': 'SensorWidth', ' Integer': ' Integer'}\n",
      "{'AccumulateCount': 'SerialNumber', ' Integer': ' String'}\n",
      "{'AccumulateCount': 'ShutterOutputMode', ' Integer': ' Enumerated'}\n",
      "{'AccumulateCount': 'SimplePreAmpGainControl', ' Integer': ' Enumerated'}\n",
      "{'AccumulateCount': 'ShutterTransferTime', ' Integer': ' FloatingPoint'}\n",
      "{'AccumulateCount': 'SoftwareTrigger', ' Integer': ' Command'}\n",
      "{'AccumulateCount': 'StaticBlemishCorrection', ' Integer': ' Boolean'}\n",
      "{'AccumulateCount': 'SpuriousNoiseFilter', ' Integer': ' Boolean'}\n",
      "{'AccumulateCount': 'TargetSensorTemperature', ' Integer': ' FloatingPoint'}\n",
      "{'AccumulateCount': 'TemperatureControl', ' Integer': ' Enumerated'}\n",
      "{'AccumulateCount': 'TemperatureStatus', ' Integer': ' Enumerated'}\n",
      "{'AccumulateCount': 'TimestampClock', ' Integer': ' Integer'}\n",
      "{'AccumulateCount': 'TimestampClockFrequency', ' Integer': ' Integer'}\n",
      "{'AccumulateCount': 'TimestampClockReset', ' Integer': ' Command'}\n",
      "{'AccumulateCount': 'TriggerMode', ' Integer': ' Enumerated'}\n",
      "{'AccumulateCount': 'VerticallyCentreAOI', ' Integer': ' Boolean'}\n"
     ]
    }
   ],
   "source": [
    "import csv \n",
    "\n",
    "with open('feature_list.csv', newline='\\r\\n') as csvfile:\n",
    "    reader = csv.DictReader(csvfile)\n",
    "    for row in reader:\n",
    "         print(row)\n",
    "    \n",
    "    features = dict(reader)"
   ]
  },
  {
   "cell_type": "code",
   "execution_count": 13,
   "metadata": {},
   "outputs": [
    {
     "data": {
      "text/plain": [
       "{'AccumulateCount': ' Integer'}"
      ]
     },
     "execution_count": 13,
     "metadata": {},
     "output_type": "execute_result"
    }
   ],
   "source": [
    "features"
   ]
  },
  {
   "cell_type": "code",
   "execution_count": 20,
   "metadata": {},
   "outputs": [
    {
     "name": "stdout",
     "output_type": "stream",
     "text": [
      "['AccumulateCount', ' Integer']\n",
      "['AcquisitionStart', ' Command']\n",
      "['AcquisitionStop', ' Command']\n",
      "['AlternatingReadoutDirection', ' Boolean']\n",
      "['AOIBinning', 'Enumerated']\n",
      "['AOIHBin', ' Integer']\n",
      "['AOIHeight', ' Integer']\n",
      "['AOILayout', ' Enumerated']\n",
      "['AOILeft', ' Integer']\n",
      "['AOIStride', ' Integer']\n",
      "['AOITop', ' Integer']\n",
      "['AOIVBin', ' Integer']\n",
      "['AOIWidth', ' Integer']\n",
      "['AuxiliaryOutSource', ' Enumerated']\n",
      "['AuxOutSourceTwo', ' Enumerated']\n",
      "['Baseline', ' Integer']\n",
      "['BitDepth', ' Enumerated']\n",
      "['BufferOverflowEvent', ' Integer']\n",
      "['BytesPerPixel', ' FloatingPoint']\n",
      "['CameraAcquiring', ' Boolean']\n",
      "['CameraModel', ' String']\n",
      "['CameraName', ' String']\n",
      "['CameraPresent', ' Boolean']\n",
      "['ControllerID', ' String']\n",
      "['FrameCount', ' Integer']\n",
      "['CycleMode', ' Enumerated']\n",
      "['DeviceCount', ' Integer']\n",
      "['ElectronicShutteringMode', ' Enumerated']\n",
      "['EventEnable', ' Boolean']\n",
      "['EventsMissedEvent', ' Integer']\n",
      "['EventSelector', ' Enumerated']\n",
      "['ExposedPixelHeight', ' Integer']\n",
      "['ExposureTime', ' FloatingPoint']\n",
      "['ExposureEndEvent', ' Integer']\n",
      "['ExposureStartEvent', ' Integer']\n",
      "['ExternalTriggerDelay', ' FloatingPoint']\n",
      "['FanSpeed', ' Enumerated']\n",
      "['FastAOIFrameRateEnable', ' Boolean']\n",
      "['FirmwareVersion', ' String']\n",
      "['FrameRate', ' FloatingPoint']\n",
      "['FullAOIControl', ' Boolean']\n",
      "['ImageSizeBytes', ' Integer']\n",
      "['InterfaceType', ' String']\n",
      "['IOInvert', ' Boolean']\n",
      "['IOSelector', ' Enumerated']\n",
      "['LineScanSpeed', ' FloatingPoint']\n",
      "['LUTIndex', ' Integer']\n",
      "['LUTValue', ' Integer']\n",
      "['MaxInterfaceTransferRate', ' FloatingPoint']\n",
      "['MetadataEnable', ' Boolean']\n",
      "['MetadataTimestamp', ' Boolean']\n",
      "['MetadataFrame', ' Boolean']\n",
      "['MultitrackBinned', ' Boolean']\n",
      "['MultitrackCount', ' Integer']\n",
      "['MultitrackEnd', ' Integer']\n",
      "['MultitrackSelector', ' Integer']\n",
      "['MultitrackStart', ' Integer']\n",
      "['Overlap', ' Boolean']\n",
      "['PixelEncoding', ' Enumerated']\n",
      "['PixelHeight', ' FloatingPoint']\n",
      "['PixelReadoutRate', ' Enumerated']\n",
      "['PixelWidth', ' FloatingPoint']\n",
      "['PreAmpGainControl', ' Enumerated']\n",
      "['ReadoutTime', ' FloatingPoint']\n",
      "['RollingShutterGlobalClear', ' Boolean']\n",
      "['RowNExposureEndEvent', ' Integer']\n",
      "['RowNExposureStartEvent', ' Integer']\n",
      "['RowReadTime', ' FloatingPoint']\n",
      "['ScanSpeedControlEnable', ' Boolean']\n",
      "['SensorCooling', ' Boolean']\n",
      "['SensorHeight', ' Integer']\n",
      "['SensorReadoutMode', ' Enumerated']\n",
      "['SensorTemperature', ' FloatingPoint']\n",
      "['SensorWidth', ' Integer']\n",
      "['SerialNumber', ' String']\n",
      "['ShutterOutputMode', ' Enumerated']\n",
      "['SimplePreAmpGainControl', ' Enumerated']\n",
      "['ShutterTransferTime', ' FloatingPoint']\n",
      "['SoftwareTrigger', ' Command']\n",
      "['StaticBlemishCorrection', ' Boolean']\n",
      "['SpuriousNoiseFilter', ' Boolean']\n",
      "['TargetSensorTemperature', ' FloatingPoint']\n",
      "['TemperatureControl', ' Enumerated']\n",
      "['TemperatureStatus', ' Enumerated']\n",
      "['TimestampClock', ' Integer']\n",
      "['TimestampClockFrequency', ' Integer']\n",
      "['TimestampClockReset', ' Command']\n",
      "['TriggerMode', ' Enumerated']\n",
      "['VerticallyCentreAOI', ' Boolean']\n"
     ]
    }
   ],
   "source": [
    "feature_dict = dict()\n",
    "with open('feature_list.csv', newline='') as csvfile:\n",
    "    spamreader = csv.reader(csvfile, delimiter=',', quotechar='|')\n",
    "    for row in spamreader:\n",
    "        print(row)\n",
    "        key, type_ = row\n",
    "        feature_dict[key] = type_.strip()\n",
    "        \n"
   ]
  },
  {
   "cell_type": "code",
   "execution_count": 21,
   "metadata": {},
   "outputs": [
    {
     "data": {
      "text/plain": [
       "{'AccumulateCount': 'Integer',\n",
       " 'AcquisitionStart': 'Command',\n",
       " 'AcquisitionStop': 'Command',\n",
       " 'AlternatingReadoutDirection': 'Boolean',\n",
       " 'AOIBinning': 'Enumerated',\n",
       " 'AOIHBin': 'Integer',\n",
       " 'AOIHeight': 'Integer',\n",
       " 'AOILayout': 'Enumerated',\n",
       " 'AOILeft': 'Integer',\n",
       " 'AOIStride': 'Integer',\n",
       " 'AOITop': 'Integer',\n",
       " 'AOIVBin': 'Integer',\n",
       " 'AOIWidth': 'Integer',\n",
       " 'AuxiliaryOutSource': 'Enumerated',\n",
       " 'AuxOutSourceTwo': 'Enumerated',\n",
       " 'Baseline': 'Integer',\n",
       " 'BitDepth': 'Enumerated',\n",
       " 'BufferOverflowEvent': 'Integer',\n",
       " 'BytesPerPixel': 'FloatingPoint',\n",
       " 'CameraAcquiring': 'Boolean',\n",
       " 'CameraModel': 'String',\n",
       " 'CameraName': 'String',\n",
       " 'CameraPresent': 'Boolean',\n",
       " 'ControllerID': 'String',\n",
       " 'FrameCount': 'Integer',\n",
       " 'CycleMode': 'Enumerated',\n",
       " 'DeviceCount': 'Integer',\n",
       " 'ElectronicShutteringMode': 'Enumerated',\n",
       " 'EventEnable': 'Boolean',\n",
       " 'EventsMissedEvent': 'Integer',\n",
       " 'EventSelector': 'Enumerated',\n",
       " 'ExposedPixelHeight': 'Integer',\n",
       " 'ExposureTime': 'FloatingPoint',\n",
       " 'ExposureEndEvent': 'Integer',\n",
       " 'ExposureStartEvent': 'Integer',\n",
       " 'ExternalTriggerDelay': 'FloatingPoint',\n",
       " 'FanSpeed': 'Enumerated',\n",
       " 'FastAOIFrameRateEnable': 'Boolean',\n",
       " 'FirmwareVersion': 'String',\n",
       " 'FrameRate': 'FloatingPoint',\n",
       " 'FullAOIControl': 'Boolean',\n",
       " 'ImageSizeBytes': 'Integer',\n",
       " 'InterfaceType': 'String',\n",
       " 'IOInvert': 'Boolean',\n",
       " 'IOSelector': 'Enumerated',\n",
       " 'LineScanSpeed': 'FloatingPoint',\n",
       " 'LUTIndex': 'Integer',\n",
       " 'LUTValue': 'Integer',\n",
       " 'MaxInterfaceTransferRate': 'FloatingPoint',\n",
       " 'MetadataEnable': 'Boolean',\n",
       " 'MetadataTimestamp': 'Boolean',\n",
       " 'MetadataFrame': 'Boolean',\n",
       " 'MultitrackBinned': 'Boolean',\n",
       " 'MultitrackCount': 'Integer',\n",
       " 'MultitrackEnd': 'Integer',\n",
       " 'MultitrackSelector': 'Integer',\n",
       " 'MultitrackStart': 'Integer',\n",
       " 'Overlap': 'Boolean',\n",
       " 'PixelEncoding': 'Enumerated',\n",
       " 'PixelHeight': 'FloatingPoint',\n",
       " 'PixelReadoutRate': 'Enumerated',\n",
       " 'PixelWidth': 'FloatingPoint',\n",
       " 'PreAmpGainControl': 'Enumerated',\n",
       " 'ReadoutTime': 'FloatingPoint',\n",
       " 'RollingShutterGlobalClear': 'Boolean',\n",
       " 'RowNExposureEndEvent': 'Integer',\n",
       " 'RowNExposureStartEvent': 'Integer',\n",
       " 'RowReadTime': 'FloatingPoint',\n",
       " 'ScanSpeedControlEnable': 'Boolean',\n",
       " 'SensorCooling': 'Boolean',\n",
       " 'SensorHeight': 'Integer',\n",
       " 'SensorReadoutMode': 'Enumerated',\n",
       " 'SensorTemperature': 'FloatingPoint',\n",
       " 'SensorWidth': 'Integer',\n",
       " 'SerialNumber': 'String',\n",
       " 'ShutterOutputMode': 'Enumerated',\n",
       " 'SimplePreAmpGainControl': 'Enumerated',\n",
       " 'ShutterTransferTime': 'FloatingPoint',\n",
       " 'SoftwareTrigger': 'Command',\n",
       " 'StaticBlemishCorrection': 'Boolean',\n",
       " 'SpuriousNoiseFilter': 'Boolean',\n",
       " 'TargetSensorTemperature': 'FloatingPoint',\n",
       " 'TemperatureControl': 'Enumerated',\n",
       " 'TemperatureStatus': 'Enumerated',\n",
       " 'TimestampClock': 'Integer',\n",
       " 'TimestampClockFrequency': 'Integer',\n",
       " 'TimestampClockReset': 'Command',\n",
       " 'TriggerMode': 'Enumerated',\n",
       " 'VerticallyCentreAOI': 'Boolean'}"
      ]
     },
     "execution_count": 21,
     "metadata": {},
     "output_type": "execute_result"
    }
   ],
   "source": [
    "feature_dict"
   ]
  },
  {
   "cell_type": "code",
   "execution_count": 20,
   "metadata": {},
   "outputs": [
    {
     "ename": "CameraException",
     "evalue": "6 (AT_ERR_OUTOFRANGE)",
     "output_type": "error",
     "traceback": [
      "\u001b[1;31m---------------------------------------------------------------------------\u001b[0m",
      "\u001b[1;31mATCoreException\u001b[0m                           Traceback (most recent call last)",
      "\u001b[1;32m~\\anaconda3\\envs\\scopefoundry\\lib\\site-packages\\pyAndorSDK3\\andor_camera.py\u001b[0m in \u001b[0;36m__init__\u001b[1;34m(self, lib, index)\u001b[0m\n\u001b[0;32m     46\u001b[0m         \u001b[1;32mtry\u001b[0m\u001b[1;33m:\u001b[0m\u001b[1;33m\u001b[0m\u001b[1;33m\u001b[0m\u001b[0m\n\u001b[1;32m---> 47\u001b[1;33m             \u001b[0mself\u001b[0m\u001b[1;33m.\u001b[0m\u001b[0m_handle\u001b[0m \u001b[1;33m=\u001b[0m \u001b[0mself\u001b[0m\u001b[1;33m.\u001b[0m\u001b[0m_lib\u001b[0m\u001b[1;33m.\u001b[0m\u001b[0mopen\u001b[0m\u001b[1;33m(\u001b[0m\u001b[0mself\u001b[0m\u001b[1;33m.\u001b[0m\u001b[0m_index\u001b[0m\u001b[1;33m)\u001b[0m\u001b[1;33m\u001b[0m\u001b[1;33m\u001b[0m\u001b[0m\n\u001b[0m\u001b[0;32m     48\u001b[0m         \u001b[1;32mexcept\u001b[0m \u001b[0mATCoreException\u001b[0m \u001b[1;32mas\u001b[0m \u001b[0me\u001b[0m\u001b[1;33m:\u001b[0m\u001b[1;33m\u001b[0m\u001b[1;33m\u001b[0m\u001b[0m\n",
      "\u001b[1;32m~\\anaconda3\\envs\\scopefoundry\\lib\\site-packages\\pyAndorSDK3\\andor_sdk3_internals.py\u001b[0m in \u001b[0;36mopen\u001b[1;34m(self, index)\u001b[0m\n\u001b[0;32m    153\u001b[0m         \u001b[0mresult\u001b[0m \u001b[1;33m=\u001b[0m \u001b[0mself\u001b[0m\u001b[1;33m.\u001b[0m\u001b[0mffi\u001b[0m\u001b[1;33m.\u001b[0m\u001b[0mnew\u001b[0m\u001b[1;33m(\u001b[0m\u001b[1;34m\"AT_H *\"\u001b[0m\u001b[1;33m)\u001b[0m\u001b[1;33m\u001b[0m\u001b[1;33m\u001b[0m\u001b[0m\n\u001b[1;32m--> 154\u001b[1;33m         \u001b[0mself\u001b[0m\u001b[1;33m.\u001b[0m\u001b[0mhandle_return\u001b[0m\u001b[1;33m(\u001b[0m\u001b[0mself\u001b[0m\u001b[1;33m.\u001b[0m\u001b[0mlib\u001b[0m\u001b[1;33m.\u001b[0m\u001b[0mAT_Open\u001b[0m\u001b[1;33m(\u001b[0m\u001b[0mindex\u001b[0m\u001b[1;33m,\u001b[0m \u001b[0mresult\u001b[0m\u001b[1;33m)\u001b[0m\u001b[1;33m)\u001b[0m\u001b[1;33m\u001b[0m\u001b[1;33m\u001b[0m\u001b[0m\n\u001b[0m\u001b[0;32m    155\u001b[0m \u001b[1;33m\u001b[0m\u001b[0m\n",
      "\u001b[1;32m~\\anaconda3\\envs\\scopefoundry\\lib\\site-packages\\pyAndorSDK3\\andor_sdk3_internals.py\u001b[0m in \u001b[0;36mhandle_return\u001b[1;34m(self, ret_value)\u001b[0m\n\u001b[0;32m    143\u001b[0m         \u001b[1;32mif\u001b[0m \u001b[0mret_value\u001b[0m \u001b[1;33m!=\u001b[0m \u001b[1;36m0\u001b[0m\u001b[1;33m:\u001b[0m\u001b[1;33m\u001b[0m\u001b[1;33m\u001b[0m\u001b[0m\n\u001b[1;32m--> 144\u001b[1;33m             \u001b[1;32mraise\u001b[0m \u001b[0mATCoreException\u001b[0m\u001b[1;33m(\u001b[0m\u001b[1;34m'{} ({})'\u001b[0m\u001b[1;33m.\u001b[0m\u001b[0mformat\u001b[0m\u001b[1;33m(\u001b[0m\u001b[0mret_value\u001b[0m\u001b[1;33m,\u001b[0m \u001b[0mself\u001b[0m\u001b[1;33m.\u001b[0m\u001b[0m_ERRORS\u001b[0m\u001b[1;33m[\u001b[0m\u001b[0mret_value\u001b[0m\u001b[1;33m]\u001b[0m\u001b[1;33m)\u001b[0m\u001b[1;33m)\u001b[0m\u001b[1;33m\u001b[0m\u001b[1;33m\u001b[0m\u001b[0m\n\u001b[0m\u001b[0;32m    145\u001b[0m         \u001b[1;32mreturn\u001b[0m \u001b[0mret_value\u001b[0m\u001b[1;33m\u001b[0m\u001b[1;33m\u001b[0m\u001b[0m\n",
      "\u001b[1;31mATCoreException\u001b[0m: 6 (AT_ERR_OUTOFRANGE)",
      "\nDuring handling of the above exception, another exception occurred:\n",
      "\u001b[1;31mCameraException\u001b[0m                           Traceback (most recent call last)",
      "\u001b[1;32m<ipython-input-20-fb858917a61b>\u001b[0m in \u001b[0;36m<module>\u001b[1;34m\u001b[0m\n\u001b[0;32m      1\u001b[0m \u001b[1;32mfrom\u001b[0m \u001b[0mpyAndorSDK3\u001b[0m \u001b[1;32mimport\u001b[0m \u001b[0mAndorSDK3\u001b[0m\u001b[1;33m\u001b[0m\u001b[1;33m\u001b[0m\u001b[0m\n\u001b[0;32m      2\u001b[0m \u001b[0msdk3\u001b[0m \u001b[1;33m=\u001b[0m \u001b[0mAndorSDK3\u001b[0m\u001b[1;33m(\u001b[0m\u001b[1;33m)\u001b[0m\u001b[1;33m\u001b[0m\u001b[1;33m\u001b[0m\u001b[0m\n\u001b[1;32m----> 3\u001b[1;33m \u001b[0mcam\u001b[0m \u001b[1;33m=\u001b[0m \u001b[0msdk3\u001b[0m\u001b[1;33m.\u001b[0m\u001b[0mGetCamera\u001b[0m\u001b[1;33m(\u001b[0m\u001b[1;36m0\u001b[0m\u001b[1;33m)\u001b[0m\u001b[1;33m\u001b[0m\u001b[1;33m\u001b[0m\u001b[0m\n\u001b[0m\u001b[0;32m      4\u001b[0m \u001b[0mprint\u001b[0m \u001b[1;33m(\u001b[0m\u001b[0mcam\u001b[0m\u001b[1;33m.\u001b[0m\u001b[0mSerialNumber\u001b[0m\u001b[1;33m)\u001b[0m\u001b[1;33m\u001b[0m\u001b[1;33m\u001b[0m\u001b[0m\n",
      "\u001b[1;32m~\\anaconda3\\envs\\scopefoundry\\lib\\site-packages\\pyAndorSDK3\\andor_sdk3.py\u001b[0m in \u001b[0;36mGetCamera\u001b[1;34m(self, i)\u001b[0m\n\u001b[0;32m     32\u001b[0m     \u001b[1;32mdef\u001b[0m \u001b[0mGetCamera\u001b[0m\u001b[1;33m(\u001b[0m\u001b[0mself\u001b[0m\u001b[1;33m,\u001b[0m \u001b[0mi\u001b[0m\u001b[1;33m)\u001b[0m\u001b[1;33m:\u001b[0m\u001b[1;33m\u001b[0m\u001b[1;33m\u001b[0m\u001b[0m\n\u001b[0;32m     33\u001b[0m         \u001b[1;32mfrom\u001b[0m \u001b[0mpyAndorSDK3\u001b[0m\u001b[1;33m.\u001b[0m\u001b[0mandor_camera\u001b[0m \u001b[1;32mimport\u001b[0m \u001b[0mCamera\u001b[0m\u001b[1;33m\u001b[0m\u001b[1;33m\u001b[0m\u001b[0m\n\u001b[1;32m---> 34\u001b[1;33m         \u001b[1;32mreturn\u001b[0m \u001b[0mCamera\u001b[0m\u001b[1;33m(\u001b[0m\u001b[0mself\u001b[0m\u001b[1;33m.\u001b[0m\u001b[0m_lib\u001b[0m\u001b[1;33m,\u001b[0m \u001b[0mi\u001b[0m\u001b[1;33m)\u001b[0m\u001b[1;33m\u001b[0m\u001b[1;33m\u001b[0m\u001b[0m\n\u001b[0m\u001b[0;32m     35\u001b[0m \u001b[1;33m\u001b[0m\u001b[0m\n\u001b[0;32m     36\u001b[0m     \u001b[1;32mdef\u001b[0m \u001b[0mevent_callback\u001b[0m\u001b[1;33m(\u001b[0m\u001b[0mself\u001b[0m\u001b[1;33m,\u001b[0m \u001b[0mfunc\u001b[0m\u001b[1;33m)\u001b[0m\u001b[1;33m:\u001b[0m\u001b[1;33m\u001b[0m\u001b[1;33m\u001b[0m\u001b[0m\n",
      "\u001b[1;32m~\\anaconda3\\envs\\scopefoundry\\lib\\site-packages\\pyAndorSDK3\\andor_camera.py\u001b[0m in \u001b[0;36m__init__\u001b[1;34m(self, lib, index)\u001b[0m\n\u001b[0;32m     47\u001b[0m             \u001b[0mself\u001b[0m\u001b[1;33m.\u001b[0m\u001b[0m_handle\u001b[0m \u001b[1;33m=\u001b[0m \u001b[0mself\u001b[0m\u001b[1;33m.\u001b[0m\u001b[0m_lib\u001b[0m\u001b[1;33m.\u001b[0m\u001b[0mopen\u001b[0m\u001b[1;33m(\u001b[0m\u001b[0mself\u001b[0m\u001b[1;33m.\u001b[0m\u001b[0m_index\u001b[0m\u001b[1;33m)\u001b[0m\u001b[1;33m\u001b[0m\u001b[1;33m\u001b[0m\u001b[0m\n\u001b[0;32m     48\u001b[0m         \u001b[1;32mexcept\u001b[0m \u001b[0mATCoreException\u001b[0m \u001b[1;32mas\u001b[0m \u001b[0me\u001b[0m\u001b[1;33m:\u001b[0m\u001b[1;33m\u001b[0m\u001b[1;33m\u001b[0m\u001b[0m\n\u001b[1;32m---> 49\u001b[1;33m             \u001b[1;32mraise\u001b[0m \u001b[0mCameraException\u001b[0m\u001b[1;33m(\u001b[0m\u001b[0mstr\u001b[0m\u001b[1;33m(\u001b[0m\u001b[0me\u001b[0m\u001b[1;33m)\u001b[0m\u001b[1;33m)\u001b[0m\u001b[1;33m\u001b[0m\u001b[1;33m\u001b[0m\u001b[0m\n\u001b[0m\u001b[0;32m     50\u001b[0m         \u001b[1;32mif\u001b[0m \u001b[0mself\u001b[0m\u001b[1;33m.\u001b[0m\u001b[0m_lib\u001b[0m\u001b[1;33m.\u001b[0m\u001b[0mget_bool\u001b[0m\u001b[1;33m(\u001b[0m\u001b[0mself\u001b[0m\u001b[1;33m.\u001b[0m\u001b[0m_handle\u001b[0m\u001b[1;33m,\u001b[0m \u001b[1;34m\"CameraAcquiring\"\u001b[0m\u001b[1;33m)\u001b[0m\u001b[1;33m:\u001b[0m\u001b[1;33m\u001b[0m\u001b[1;33m\u001b[0m\u001b[0m\n\u001b[0;32m     51\u001b[0m             \u001b[0mself\u001b[0m\u001b[1;33m.\u001b[0m\u001b[0mAcquisitionStop\u001b[0m\u001b[1;33m(\u001b[0m\u001b[1;33m)\u001b[0m\u001b[1;33m\u001b[0m\u001b[1;33m\u001b[0m\u001b[0m\n",
      "\u001b[1;31mCameraException\u001b[0m: 6 (AT_ERR_OUTOFRANGE)"
     ]
    }
   ],
   "source": [
    "from pyAndorSDK3 import AndorSDK3\n",
    "sdk3 = AndorSDK3()\n",
    "cam = sdk3.GetCamera(0)\n",
    "print (cam.SerialNumber)        \n"
   ]
  },
  {
   "cell_type": "code",
   "execution_count": 15,
   "metadata": {},
   "outputs": [
    {
     "data": {
      "text/plain": [
       "0"
      ]
     },
     "execution_count": 15,
     "metadata": {},
     "output_type": "execute_result"
    }
   ],
   "source": [
    "cam._lib.is_readonly(cam._handle,'PreAmpGainControl')"
   ]
  },
  {
   "cell_type": "code",
   "execution_count": 4,
   "metadata": {},
   "outputs": [
    {
     "data": {
      "text/plain": [
       "['Gain 1 (11 bit)',\n",
       " 'Gain 2 (11 bit)',\n",
       " 'Gain 3 (11 bit)',\n",
       " 'Gain 4 (11 bit)',\n",
       " 'Gain 1 Gain 3 (16 bit)',\n",
       " 'Gain 1 Gain 4 (16 bit)',\n",
       " 'Gain 2 Gain 3 (16 bit)',\n",
       " 'Gain 2 Gain 4 (16 bit)']"
      ]
     },
     "execution_count": 4,
     "metadata": {},
     "output_type": "execute_result"
    }
   ],
   "source": [
    "cam.options_PreAmpGainControl"
   ]
  },
  {
   "cell_type": "code",
   "execution_count": 5,
   "metadata": {},
   "outputs": [
    {
     "ename": "AttributeError",
     "evalue": "Camera has no Feature 'PreAmpGainControl_options'",
     "output_type": "error",
     "traceback": [
      "\u001b[1;31m---------------------------------------------------------------------------\u001b[0m",
      "\u001b[1;31mAttributeError\u001b[0m                            Traceback (most recent call last)",
      "\u001b[1;32m<ipython-input-5-0a2fca20af42>\u001b[0m in \u001b[0;36m<module>\u001b[1;34m\u001b[0m\n\u001b[1;32m----> 1\u001b[1;33m \u001b[0mcam\u001b[0m\u001b[1;33m.\u001b[0m\u001b[0mPreAmpGainControl_options\u001b[0m\u001b[1;33m\u001b[0m\u001b[1;33m\u001b[0m\u001b[0m\n\u001b[0m",
      "\u001b[1;32m~\\anaconda3\\envs\\scopefoundry\\lib\\site-packages\\pyAndorSDK3\\andor_camera.py\u001b[0m in \u001b[0;36m__getattr__\u001b[1;34m(self, feature_name)\u001b[0m\n\u001b[0;32m    147\u001b[0m             \u001b[0mfeature\u001b[0m \u001b[1;33m=\u001b[0m \u001b[0mself\u001b[0m\u001b[1;33m.\u001b[0m\u001b[0m_create_feature_function\u001b[0m\u001b[1;33m(\u001b[0m\u001b[0mfeature_name\u001b[0m\u001b[1;33m,\u001b[0m \u001b[0mtext\u001b[0m\u001b[1;33m,\u001b[0m \u001b[0msplit_feature_name\u001b[0m\u001b[1;33m[\u001b[0m\u001b[1;33m-\u001b[0m\u001b[1;36m1\u001b[0m\u001b[1;33m]\u001b[0m\u001b[1;33m)\u001b[0m\u001b[1;33m\u001b[0m\u001b[1;33m\u001b[0m\u001b[0m\n\u001b[0;32m    148\u001b[0m         \u001b[1;32melse\u001b[0m\u001b[1;33m:\u001b[0m\u001b[1;33m\u001b[0m\u001b[1;33m\u001b[0m\u001b[0m\n\u001b[1;32m--> 149\u001b[1;33m             \u001b[0mself\u001b[0m\u001b[1;33m.\u001b[0m\u001b[0m_setup_feature_type\u001b[0m\u001b[1;33m(\u001b[0m\u001b[0mfeature_name\u001b[0m\u001b[1;33m)\u001b[0m\u001b[1;33m\u001b[0m\u001b[1;33m\u001b[0m\u001b[0m\n\u001b[0m\u001b[0;32m    150\u001b[0m             \u001b[1;32mif\u001b[0m \u001b[0mself\u001b[0m\u001b[1;33m.\u001b[0m\u001b[0m_features_type\u001b[0m\u001b[1;33m[\u001b[0m\u001b[0mfeature_name\u001b[0m\u001b[1;33m]\u001b[0m \u001b[1;33m!=\u001b[0m \u001b[1;34m\"command\"\u001b[0m\u001b[1;33m:\u001b[0m\u001b[1;33m\u001b[0m\u001b[1;33m\u001b[0m\u001b[0m\n\u001b[0;32m    151\u001b[0m                 \u001b[0mfeature\u001b[0m \u001b[1;33m=\u001b[0m \u001b[0mFeature\u001b[0m\u001b[1;33m(\u001b[0m\u001b[0mself\u001b[0m\u001b[1;33m.\u001b[0m\u001b[0m_create_func\u001b[0m\u001b[1;33m(\u001b[0m\u001b[0mgetattr\u001b[0m\u001b[1;33m(\u001b[0m\u001b[0mself\u001b[0m\u001b[1;33m.\u001b[0m\u001b[0m_lib\u001b[0m\u001b[1;33m,\u001b[0m \u001b[1;34m\"get_\"\u001b[0m\u001b[1;33m+\u001b[0m\u001b[0mself\u001b[0m\u001b[1;33m.\u001b[0m\u001b[0m_features_type\u001b[0m\u001b[1;33m[\u001b[0m\u001b[0mfeature_name\u001b[0m\u001b[1;33m]\u001b[0m\u001b[1;33m)\u001b[0m\u001b[1;33m,\u001b[0m \u001b[0mfeature_name\u001b[0m\u001b[1;33m)\u001b[0m\u001b[1;33m,\u001b[0m \u001b[1;32mTrue\u001b[0m\u001b[1;33m)\u001b[0m\u001b[1;33m\u001b[0m\u001b[1;33m\u001b[0m\u001b[0m\n",
      "\u001b[1;32m~\\anaconda3\\envs\\scopefoundry\\lib\\site-packages\\pyAndorSDK3\\andor_camera.py\u001b[0m in \u001b[0;36m_setup_feature_type\u001b[1;34m(self, feature_name)\u001b[0m\n\u001b[0;32m    100\u001b[0m         \u001b[1;32mif\u001b[0m \u001b[0mfeature_name\u001b[0m \u001b[1;32mnot\u001b[0m \u001b[1;32min\u001b[0m \u001b[0mself\u001b[0m\u001b[1;33m.\u001b[0m\u001b[0m_features_type\u001b[0m\u001b[1;33m:\u001b[0m\u001b[1;33m\u001b[0m\u001b[1;33m\u001b[0m\u001b[0m\n\u001b[0;32m    101\u001b[0m             \u001b[1;32mif\u001b[0m \u001b[1;32mnot\u001b[0m \u001b[0mself\u001b[0m\u001b[1;33m.\u001b[0m\u001b[0m_lib\u001b[0m\u001b[1;33m.\u001b[0m\u001b[0mis_implemented\u001b[0m\u001b[1;33m(\u001b[0m\u001b[0mself\u001b[0m\u001b[1;33m.\u001b[0m\u001b[0m_handle\u001b[0m\u001b[1;33m,\u001b[0m \u001b[0mfeature_name\u001b[0m\u001b[1;33m)\u001b[0m\u001b[1;33m:\u001b[0m\u001b[1;33m\u001b[0m\u001b[1;33m\u001b[0m\u001b[0m\n\u001b[1;32m--> 102\u001b[1;33m                 \u001b[0mself\u001b[0m\u001b[1;33m.\u001b[0m\u001b[0m_raise_attribute_error\u001b[0m\u001b[1;33m(\u001b[0m\u001b[0mfeature_name\u001b[0m\u001b[1;33m)\u001b[0m\u001b[1;33m\u001b[0m\u001b[1;33m\u001b[0m\u001b[0m\n\u001b[0m\u001b[0;32m    103\u001b[0m \u001b[1;33m\u001b[0m\u001b[0m\n\u001b[0;32m    104\u001b[0m             \u001b[0mtypes_to_check\u001b[0m \u001b[1;33m=\u001b[0m \u001b[1;33m[\u001b[0m\u001b[1;34m\"int\"\u001b[0m\u001b[1;33m,\u001b[0m\u001b[1;34m\"float\"\u001b[0m\u001b[1;33m,\u001b[0m\u001b[1;34m\"bool\"\u001b[0m\u001b[1;33m,\u001b[0m\u001b[1;34m\"enumerated_string\"\u001b[0m\u001b[1;33m,\u001b[0m\u001b[1;34m\"string\"\u001b[0m\u001b[1;33m]\u001b[0m\u001b[1;33m\u001b[0m\u001b[1;33m\u001b[0m\u001b[0m\n",
      "\u001b[1;32m~\\anaconda3\\envs\\scopefoundry\\lib\\site-packages\\pyAndorSDK3\\andor_camera.py\u001b[0m in \u001b[0;36m_raise_attribute_error\u001b[1;34m(self, feature_name)\u001b[0m\n\u001b[0;32m     86\u001b[0m \u001b[1;33m\u001b[0m\u001b[0m\n\u001b[0;32m     87\u001b[0m     \u001b[1;32mdef\u001b[0m \u001b[0m_raise_attribute_error\u001b[0m\u001b[1;33m(\u001b[0m\u001b[0mself\u001b[0m\u001b[1;33m,\u001b[0m \u001b[0mfeature_name\u001b[0m\u001b[1;33m)\u001b[0m\u001b[1;33m:\u001b[0m\u001b[1;33m\u001b[0m\u001b[1;33m\u001b[0m\u001b[0m\n\u001b[1;32m---> 88\u001b[1;33m         \u001b[1;32mraise\u001b[0m \u001b[0mAttributeError\u001b[0m\u001b[1;33m(\u001b[0m\u001b[1;34m\"Camera has no Feature '{0}'\"\u001b[0m\u001b[1;33m.\u001b[0m\u001b[0mformat\u001b[0m\u001b[1;33m(\u001b[0m\u001b[0mfeature_name\u001b[0m\u001b[1;33m)\u001b[0m\u001b[1;33m)\u001b[0m\u001b[1;33m\u001b[0m\u001b[1;33m\u001b[0m\u001b[0m\n\u001b[0m\u001b[0;32m     89\u001b[0m \u001b[1;33m\u001b[0m\u001b[0m\n\u001b[0;32m     90\u001b[0m     \u001b[1;32mdef\u001b[0m \u001b[0m_create_func\u001b[0m\u001b[1;33m(\u001b[0m\u001b[0mself\u001b[0m\u001b[1;33m,\u001b[0m \u001b[0mcommand\u001b[0m\u001b[1;33m,\u001b[0m \u001b[0mfeature_name\u001b[0m\u001b[1;33m)\u001b[0m\u001b[1;33m:\u001b[0m\u001b[1;33m\u001b[0m\u001b[1;33m\u001b[0m\u001b[0m\n",
      "\u001b[1;31mAttributeError\u001b[0m: Camera has no Feature 'PreAmpGainControl_options'"
     ]
    }
   ],
   "source": [
    "cam.PreAmpGainControl_options"
   ]
  },
  {
   "cell_type": "code",
   "execution_count": 16,
   "metadata": {},
   "outputs": [],
   "source": [
    "cam.close()"
   ]
  },
  {
   "cell_type": "code",
   "execution_count": 19,
   "metadata": {},
   "outputs": [],
   "source": [
    "sdk3.Reinitialise()"
   ]
  },
  {
   "cell_type": "code",
   "execution_count": null,
   "metadata": {},
   "outputs": [],
   "source": []
  }
 ],
 "metadata": {
  "kernelspec": {
   "display_name": "Python 3",
   "language": "python",
   "name": "python3"
  },
  "language_info": {
   "codemirror_mode": {
    "name": "ipython",
    "version": 3
   },
   "file_extension": ".py",
   "mimetype": "text/x-python",
   "name": "python",
   "nbconvert_exporter": "python",
   "pygments_lexer": "ipython3",
   "version": "3.8.5"
  }
 },
 "nbformat": 4,
 "nbformat_minor": 4
}
